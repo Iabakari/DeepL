{
 "cells": [
  {
   "cell_type": "markdown",
   "metadata": {},
   "source": [
    "# TP 1 - Prise en main de Keras\n",
    "\n",
    "Dans ce TP, vous allez pouvoir prendre en main Keras pour construire et entraîner vos premiers réseaux de neurones. Nous vous fournissons une base de code permettant de reproduire un exemple simple du type de ceux présentés sur le site [playground.tensorflow.org](http://playground.tensorflow.org). L'objectif du TP est de modifier ce code afin d'illustrer certains concepts vus en cours."
   ]
  },
  {
   "cell_type": "markdown",
   "metadata": {
    "id": "iAoaQM9VMmAD"
   },
   "source": [
    "# Génération des données\n",
    "\n",
    "Génération de données ressemblant aux données \"circulaires\" du playground : il s'agit d'un nuage de points en deux dimensions répartis en deux classes (\"bleu\" et \"orange\")"
   ]
  },
  {
   "cell_type": "code",
   "execution_count": 1,
   "metadata": {
    "executionInfo": {
     "elapsed": 2621,
     "status": "ok",
     "timestamp": 1602056140214,
     "user": {
      "displayName": "Axel Carlier",
      "photoUrl": "",
      "userId": "04558954327840318068"
     },
     "user_tz": -120
    },
    "id": "o9kpOoxkGl0y"
   },
   "outputs": [],
   "source": [
    "import math\n",
    "import numpy as np\n",
    "\n",
    "# Le paramètre noise désigne le pourcentage du nombre de données n que l'on veut bruiter\n",
    "def generateData(n, noise=0):\n",
    "\n",
    "  a = np.random.rand(n) * 2 * np.pi\n",
    "  c1 = (1.5+np.random.rand(n)*2)*np.random.rand(n)*np.vstack((np.cos(a), np.sin(a)))\n",
    "\n",
    "  b = np.random.rand(n) * 2 * np.pi\n",
    "  c2 = (3+np.random.rand(n)+np.random.rand(n)*2)*np.vstack((np.cos(b), np.sin(b)))\n",
    "\n",
    "  x = np.concatenate((c1,c2), axis=1)\n",
    "  x = np.transpose(x)  \n",
    "  y = np.concatenate((np.zeros((n)),np.ones((n))),axis=0)\n",
    "  \n",
    "  permutation = np.random.permutation(2*n)   \n",
    "  x = x[permutation]\n",
    "  y = y[permutation]\n",
    "    \n",
    "  y[0:math.floor(n*noise/100)] = 1 -  y[0:math.floor(n*noise/100)] \n",
    "\n",
    "  return x, y"
   ]
  },
  {
   "cell_type": "markdown",
   "metadata": {
    "id": "ZxmeLW1HMe6M"
   },
   "source": [
    "Affichage des données générées"
   ]
  },
  {
   "cell_type": "code",
   "execution_count": 2,
   "metadata": {
    "colab": {
     "base_uri": "https://localhost:8080/",
     "height": 265
    },
    "executionInfo": {
     "elapsed": 2609,
     "status": "ok",
     "timestamp": 1602056140215,
     "user": {
      "displayName": "Axel Carlier",
      "photoUrl": "",
      "userId": "04558954327840318068"
     },
     "user_tz": -120
    },
    "id": "hsyb-vT-Gl01",
    "outputId": "24aaedd9-e5b8-457c-b405-3df4dd4a71e1"
   },
   "outputs": [
    {
     "data": {
      "image/png": "[encoded data removed]",
      "text/plain": [
       "<Figure size 432x288 with 1 Axes>"
      ]
     },
     "metadata": {
      "needs_background": "light"
     },
     "output_type": "display_data"
    }
   ],
   "source": [
    "from matplotlib import pyplot as plt\n",
    "%matplotlib inline\n",
    "\n",
    "x, y = generateData(200, noise=10)\n",
    "\n",
    "plt.plot(x[:,0][np.where(y == 0)], x[:,1][np.where(y == 0)], '+', label='+')\n",
    "plt.plot(x[:,0][np.where(y == 1)], x[:,1][np.where(y == 1)], 'o', label='o')\n",
    "\n",
    "plt.axis('equal')\n",
    "plt.legend()\n",
    "plt.grid()"
   ]
  },
  {
   "cell_type": "markdown",
   "metadata": {
    "id": "mPY8wM1Iouy-"
   },
   "source": [
    "Fonction utile par la suite d'affichage de l'évolution de la perte (erreur d'apprentissage et de validation) au cours de l'entraînement"
   ]
  },
  {
   "cell_type": "code",
   "execution_count": 3,
   "metadata": {
    "executionInfo": {
     "elapsed": 700,
     "status": "ok",
     "timestamp": 1602056231336,
     "user": {
      "displayName": "Axel Carlier",
      "photoUrl": "",
      "userId": "04558954327840318068"
     },
     "user_tz": -120
    },
    "id": "Rp0LNjswouai"
   },
   "outputs": [],
   "source": [
    "def plot_loss(val_loss, train_loss):\n",
    "  plt.plot(val_loss, color='green', label='Erreur de validation')\n",
    "  plt.plot(train_loss, color='blue', linestyle='--', label='Erreur d\\'entraînement')\n",
    "  plt.xlabel('Epochs')\n",
    "  plt.ylim(0, 1)\n",
    "  plt.title('Évolution de la perte sur les ensembles d\\'apprentissage et de validation au cours de l\\'apprentissage')\n",
    "  plt.legend()\n",
    "  plt.show()"
   ]
  },
  {
   "cell_type": "markdown",
   "metadata": {
    "id": "XBfeftq0Mp1h"
   },
   "source": [
    "Construction du modèle : ici le modèle a une seule couche cachée à 2 neurones avec une fonction d'activation relu, et une couche de sortie à 1 neurone avec une activation sigmoide (classification binaire !)\n",
    "\n",
    "<img src=\"https://drive.google.com/uc?id=1Aa9fmTa9hvm8sLCn30ZtTJrMd2m5TuBo\">\n",
    "<caption><center> Figure 1: réseau de neurones implémenté ci-dessous </center></caption>"
   ]
  },
  {
   "cell_type": "code",
   "execution_count": 4,
   "metadata": {
    "colab": {
     "base_uri": "https://localhost:8080/"
    },
    "executionInfo": {
     "elapsed": 6278,
     "status": "ok",
     "timestamp": 1602056163954,
     "user": {
      "displayName": "Axel Carlier",
      "photoUrl": "",
      "userId": "04558954327840318068"
     },
     "user_tz": -120
    },
    "id": "77yyS_8IQC-T",
    "outputId": "8a64625a-613d-4bce-9126-b5f2284094a4"
   },
   "outputs": [
    {
     "name": "stdout",
     "output_type": "stream",
     "text": [
      "Model: \"sequential\"\n",
      "_________________________________________________________________\n",
      "Layer (type)                 Output Shape              Param #   \n",
      "=================================================================\n",
      "dense (Dense)                (None, 2)                 6         \n",
      "_________________________________________________________________\n",
      "dense_1 (Dense)              (None, 1)                 3         \n",
      "=================================================================\n",
      "Total params: 9\n",
      "Trainable params: 9\n",
      "Non-trainable params: 0\n",
      "_________________________________________________________________\n"
     ]
    }
   ],
   "source": [
    "from keras.models import Sequential\n",
    "from keras.layers import Dense\n",
    "\n",
    "model = Sequential()\n",
    "model.add(Dense(2, activation='relu', input_dim=2)) # input_dim indique la dimension de la couche d'entrée, ici 2 (x1 et x2)\n",
    "model.add(Dense(1, activation='sigmoid'))\n",
    "\n",
    "model.summary() # affiche un résumé du modèle"
   ]
  },
  {
   "cell_type": "markdown",
   "metadata": {
    "id": "mfrOE122Ms07"
   },
   "source": [
    "Mise en place de l'optimisation par descente de gradient stochastique"
   ]
  },
  {
   "cell_type": "code",
   "execution_count": 5,
   "metadata": {
    "colab": {
     "base_uri": "https://localhost:8080/"
    },
    "executionInfo": {
     "elapsed": 19640,
     "status": "ok",
     "timestamp": 1602056186643,
     "user": {
      "displayName": "Axel Carlier",
      "photoUrl": "",
      "userId": "04558954327840318068"
     },
     "user_tz": -120
    },
    "id": "Vrj-igwbRU98",
    "outputId": "7527eea8-e8f6-4199-837e-565e8356ef14"
   },
   "outputs": [
    {
     "name": "stdout",
     "output_type": "stream",
     "text": [
      "Epoch 1/200\n",
      "32/32 [==============================] - 0s 9ms/step - loss: 0.6511 - accuracy: 0.5719 - val_loss: 0.6248 - val_accuracy: 0.6625\n",
      "Epoch 2/200\n",
      "32/32 [==============================] - 0s 3ms/step - loss: 0.6399 - accuracy: 0.6187 - val_loss: 0.6125 - val_accuracy: 0.7125\n",
      "Epoch 3/200\n",
      "32/32 [==============================] - 0s 3ms/step - loss: 0.6291 - accuracy: 0.6594 - val_loss: 0.5987 - val_accuracy: 0.7125\n",
      "Epoch 4/200\n",
      "32/32 [==============================] - 0s 3ms/step - loss: 0.6182 - accuracy: 0.6625 - val_loss: 0.5861 - val_accuracy: 0.7375\n",
      "Epoch 5/200\n",
      "32/32 [==============================] - 0s 4ms/step - loss: 0.6067 - accuracy: 0.7063 - val_loss: 0.5719 - val_accuracy: 0.7625\n",
      "Epoch 6/200\n",
      "32/32 [==============================] - 0s 3ms/step - loss: 0.5954 - accuracy: 0.7219 - val_loss: 0.5581 - val_accuracy: 0.7875\n",
      "Epoch 7/200\n",
      "32/32 [==============================] - 0s 5ms/step - loss: 0.5832 - accuracy: 0.7312 - val_loss: 0.5443 - val_accuracy: 0.8000\n",
      "Epoch 8/200\n",
      "32/32 [==============================] - 0s 3ms/step - loss: 0.5699 - accuracy: 0.7375 - val_loss: 0.5313 - val_accuracy: 0.8000\n",
      "Epoch 9/200\n",
      "32/32 [==============================] - 0s 5ms/step - loss: 0.5575 - accuracy: 0.7469 - val_loss: 0.5173 - val_accuracy: 0.8125\n",
      "Epoch 10/200\n",
      "32/32 [==============================] - 0s 3ms/step - loss: 0.5453 - accuracy: 0.7625 - val_loss: 0.5051 - val_accuracy: 0.8000\n",
      "Epoch 11/200\n",
      "32/32 [==============================] - 0s 5ms/step - loss: 0.5331 - accuracy: 0.7688 - val_loss: 0.4934 - val_accuracy: 0.8250\n",
      "Epoch 12/200\n",
      "32/32 [==============================] - 0s 3ms/step - loss: 0.5237 - accuracy: 0.7781 - val_loss: 0.4846 - val_accuracy: 0.8250\n",
      "Epoch 13/200\n",
      "32/32 [==============================] - 0s 3ms/step - loss: 0.5137 - accuracy: 0.7875 - val_loss: 0.4774 - val_accuracy: 0.8250\n",
      "Epoch 14/200\n",
      "32/32 [==============================] - ETA: 0s - loss: 0.7078 - accuracy: 0.60 - 0s 3ms/step - loss: 0.5044 - accuracy: 0.8062 - val_loss: 0.4716 - val_accuracy: 0.8125\n",
      "Epoch 15/200\n",
      "32/32 [==============================] - 0s 2ms/step - loss: 0.4965 - accuracy: 0.8156 - val_loss: 0.4651 - val_accuracy: 0.8250\n",
      "Epoch 16/200\n",
      "32/32 [==============================] - 0s 3ms/step - loss: 0.4886 - accuracy: 0.8219 - val_loss: 0.4581 - val_accuracy: 0.8250\n",
      "Epoch 17/200\n",
      "32/32 [==============================] - 0s 3ms/step - loss: 0.4825 - accuracy: 0.8156 - val_loss: 0.4543 - val_accuracy: 0.8250\n",
      "Epoch 18/200\n",
      "32/32 [==============================] - 0s 3ms/step - loss: 0.4764 - accuracy: 0.8188 - val_loss: 0.4489 - val_accuracy: 0.8250\n",
      "Epoch 19/200\n",
      "32/32 [==============================] - 0s 3ms/step - loss: 0.4711 - accuracy: 0.8250 - val_loss: 0.4449 - val_accuracy: 0.8125\n",
      "Epoch 20/200\n",
      "32/32 [==============================] - 0s 3ms/step - loss: 0.4665 - accuracy: 0.8188 - val_loss: 0.4433 - val_accuracy: 0.8000\n",
      "Epoch 21/200\n",
      "32/32 [==============================] - 0s 3ms/step - loss: 0.4634 - accuracy: 0.8250 - val_loss: 0.4388 - val_accuracy: 0.8000\n",
      "Epoch 22/200\n",
      "32/32 [==============================] - 0s 4ms/step - loss: 0.4592 - accuracy: 0.8219 - val_loss: 0.4371 - val_accuracy: 0.8000\n",
      "Epoch 23/200\n",
      "32/32 [==============================] - 0s 3ms/step - loss: 0.4571 - accuracy: 0.8219 - val_loss: 0.4363 - val_accuracy: 0.8000\n",
      "Epoch 24/200\n",
      "32/32 [==============================] - 0s 3ms/step - loss: 0.4551 - accuracy: 0.8250 - val_loss: 0.4335 - val_accuracy: 0.8000\n",
      "Epoch 25/200\n",
      "32/32 [==============================] - 0s 3ms/step - loss: 0.4520 - accuracy: 0.8250 - val_loss: 0.4303 - val_accuracy: 0.8000\n",
      "Epoch 26/200\n",
      "32/32 [==============================] - 0s 3ms/step - loss: 0.4503 - accuracy: 0.8313 - val_loss: 0.4284 - val_accuracy: 0.7875\n",
      "Epoch 27/200\n",
      "32/32 [==============================] - 0s 3ms/step - loss: 0.4490 - accuracy: 0.8250 - val_loss: 0.4283 - val_accuracy: 0.7875\n",
      "Epoch 28/200\n",
      "32/32 [==============================] - 0s 5ms/step - loss: 0.4466 - accuracy: 0.8313 - val_loss: 0.4249 - val_accuracy: 0.7875\n",
      "Epoch 29/200\n",
      "32/32 [==============================] - 0s 4ms/step - loss: 0.4455 - accuracy: 0.8250 - val_loss: 0.4246 - val_accuracy: 0.7875\n",
      "Epoch 30/200\n",
      "32/32 [==============================] - 0s 4ms/step - loss: 0.4442 - accuracy: 0.8281 - val_loss: 0.4246 - val_accuracy: 0.7750\n",
      "Epoch 31/200\n",
      "32/32 [==============================] - 0s 4ms/step - loss: 0.4436 - accuracy: 0.8313 - val_loss: 0.4272 - val_accuracy: 0.7750\n",
      "Epoch 32/200\n",
      "32/32 [==============================] - 0s 4ms/step - loss: 0.4421 - accuracy: 0.8250 - val_loss: 0.4256 - val_accuracy: 0.7625\n",
      "Epoch 33/200\n",
      "32/32 [==============================] - 0s 4ms/step - loss: 0.4413 - accuracy: 0.8188 - val_loss: 0.4221 - val_accuracy: 0.7875\n",
      "Epoch 34/200\n",
      "32/32 [==============================] - 0s 2ms/step - loss: 0.4409 - accuracy: 0.8281 - val_loss: 0.4211 - val_accuracy: 0.7875\n",
      "Epoch 35/200\n",
      "32/32 [==============================] - 0s 3ms/step - loss: 0.4392 - accuracy: 0.8313 - val_loss: 0.4188 - val_accuracy: 0.7875\n",
      "Epoch 36/200\n",
      "32/32 [==============================] - 0s 4ms/step - loss: 0.4392 - accuracy: 0.8313 - val_loss: 0.4208 - val_accuracy: 0.7750\n",
      "Epoch 37/200\n",
      "32/32 [==============================] - 0s 4ms/step - loss: 0.4395 - accuracy: 0.8313 - val_loss: 0.4196 - val_accuracy: 0.7750\n",
      "Epoch 38/200\n",
      "32/32 [==============================] - 0s 2ms/step - loss: 0.4387 - accuracy: 0.8281 - val_loss: 0.4188 - val_accuracy: 0.7750\n",
      "Epoch 39/200\n",
      "32/32 [==============================] - 0s 4ms/step - loss: 0.4378 - accuracy: 0.8344 - val_loss: 0.4166 - val_accuracy: 0.7750\n",
      "Epoch 40/200\n",
      "32/32 [==============================] - 0s 2ms/step - loss: 0.4371 - accuracy: 0.8156 - val_loss: 0.4197 - val_accuracy: 0.7750\n",
      "Epoch 41/200\n",
      "32/32 [==============================] - 0s 4ms/step - loss: 0.4376 - accuracy: 0.8219 - val_loss: 0.4224 - val_accuracy: 0.7750\n",
      "Epoch 42/200\n",
      "32/32 [==============================] - 0s 3ms/step - loss: 0.4365 - accuracy: 0.8375 - val_loss: 0.4247 - val_accuracy: 0.7625\n",
      "Epoch 43/200\n",
      "32/32 [==============================] - 0s 3ms/step - loss: 0.4368 - accuracy: 0.8156 - val_loss: 0.4227 - val_accuracy: 0.7750\n",
      "Epoch 44/200\n",
      "32/32 [==============================] - 0s 2ms/step - loss: 0.4351 - accuracy: 0.8250 - val_loss: 0.4195 - val_accuracy: 0.7625\n",
      "Epoch 45/200\n",
      "32/32 [==============================] - 0s 2ms/step - loss: 0.4357 - accuracy: 0.8313 - val_loss: 0.4192 - val_accuracy: 0.7625\n",
      "Epoch 46/200\n",
      "32/32 [==============================] - 0s 3ms/step - loss: 0.4360 - accuracy: 0.8281 - val_loss: 0.4188 - val_accuracy: 0.7625\n",
      "Epoch 47/200\n",
      "32/32 [==============================] - 0s 3ms/step - loss: 0.4359 - accuracy: 0.8281 - val_loss: 0.4209 - val_accuracy: 0.7625\n",
      "Epoch 48/200\n",
      "32/32 [==============================] - 0s 4ms/step - loss: 0.4354 - accuracy: 0.8188 - val_loss: 0.4196 - val_accuracy: 0.7625\n",
      "Epoch 49/200\n",
      "32/32 [==============================] - 0s 4ms/step - loss: 0.4348 - accuracy: 0.8281 - val_loss: 0.4201 - val_accuracy: 0.7625\n",
      "Epoch 50/200\n",
      "32/32 [==============================] - 0s 3ms/step - loss: 0.4351 - accuracy: 0.8219 - val_loss: 0.4182 - val_accuracy: 0.7625\n",
      "Epoch 51/200\n",
      "32/32 [==============================] - 0s 3ms/step - loss: 0.4353 - accuracy: 0.8188 - val_loss: 0.4213 - val_accuracy: 0.7750\n",
      "Epoch 52/200\n",
      "32/32 [==============================] - 0s 2ms/step - loss: 0.4348 - accuracy: 0.8219 - val_loss: 0.4218 - val_accuracy: 0.7625\n",
      "Epoch 53/200\n",
      "32/32 [==============================] - 0s 2ms/step - loss: 0.4339 - accuracy: 0.8188 - val_loss: 0.4179 - val_accuracy: 0.7625\n",
      "Epoch 54/200\n",
      "32/32 [==============================] - 0s 2ms/step - loss: 0.4344 - accuracy: 0.8250 - val_loss: 0.4177 - val_accuracy: 0.7750\n",
      "Epoch 55/200\n",
      "32/32 [==============================] - 0s 2ms/step - loss: 0.4338 - accuracy: 0.8281 - val_loss: 0.4200 - val_accuracy: 0.7625\n",
      "Epoch 56/200\n",
      "32/32 [==============================] - 0s 2ms/step - loss: 0.4339 - accuracy: 0.8219 - val_loss: 0.4195 - val_accuracy: 0.7625\n",
      "Epoch 57/200\n",
      "32/32 [==============================] - 0s 3ms/step - loss: 0.4348 - accuracy: 0.8219 - val_loss: 0.4209 - val_accuracy: 0.7625\n",
      "Epoch 58/200\n"
     ]
    },
    {
     "name": "stdout",
     "output_type": "stream",
     "text": [
      "32/32 [==============================] - 0s 4ms/step - loss: 0.4342 - accuracy: 0.8188 - val_loss: 0.4199 - val_accuracy: 0.7625\n",
      "Epoch 59/200\n",
      "32/32 [==============================] - 0s 4ms/step - loss: 0.4335 - accuracy: 0.8219 - val_loss: 0.4187 - val_accuracy: 0.7625\n",
      "Epoch 60/200\n",
      "32/32 [==============================] - 0s 2ms/step - loss: 0.4340 - accuracy: 0.8219 - val_loss: 0.4208 - val_accuracy: 0.7625\n",
      "Epoch 61/200\n",
      "32/32 [==============================] - 0s 3ms/step - loss: 0.4339 - accuracy: 0.8281 - val_loss: 0.4218 - val_accuracy: 0.7625\n",
      "Epoch 62/200\n",
      "32/32 [==============================] - 0s 3ms/step - loss: 0.4332 - accuracy: 0.8156 - val_loss: 0.4220 - val_accuracy: 0.7625\n",
      "Epoch 63/200\n",
      "32/32 [==============================] - 0s 3ms/step - loss: 0.4334 - accuracy: 0.8188 - val_loss: 0.4196 - val_accuracy: 0.7625\n",
      "Epoch 64/200\n",
      "32/32 [==============================] - 0s 4ms/step - loss: 0.4339 - accuracy: 0.8250 - val_loss: 0.4227 - val_accuracy: 0.7625\n",
      "Epoch 65/200\n",
      "32/32 [==============================] - 0s 3ms/step - loss: 0.4343 - accuracy: 0.8188 - val_loss: 0.4171 - val_accuracy: 0.7625\n",
      "Epoch 66/200\n",
      "32/32 [==============================] - 0s 3ms/step - loss: 0.4339 - accuracy: 0.8219 - val_loss: 0.4185 - val_accuracy: 0.7625\n",
      "Epoch 67/200\n",
      "32/32 [==============================] - 0s 2ms/step - loss: 0.4338 - accuracy: 0.8188 - val_loss: 0.4163 - val_accuracy: 0.7625\n",
      "Epoch 68/200\n",
      "32/32 [==============================] - 0s 3ms/step - loss: 0.4335 - accuracy: 0.8219 - val_loss: 0.4217 - val_accuracy: 0.7750\n",
      "Epoch 69/200\n",
      "32/32 [==============================] - 0s 3ms/step - loss: 0.4342 - accuracy: 0.8188 - val_loss: 0.4205 - val_accuracy: 0.7750\n",
      "Epoch 70/200\n",
      "32/32 [==============================] - 0s 3ms/step - loss: 0.4336 - accuracy: 0.8219 - val_loss: 0.4196 - val_accuracy: 0.7750\n",
      "Epoch 71/200\n",
      "32/32 [==============================] - 0s 10ms/step - loss: 0.4333 - accuracy: 0.8188 - val_loss: 0.4199 - val_accuracy: 0.7750\n",
      "Epoch 72/200\n",
      "32/32 [==============================] - 0s 3ms/step - loss: 0.4340 - accuracy: 0.8219 - val_loss: 0.4190 - val_accuracy: 0.7750\n",
      "Epoch 73/200\n",
      "32/32 [==============================] - 0s 3ms/step - loss: 0.4336 - accuracy: 0.8188 - val_loss: 0.4182 - val_accuracy: 0.7750\n",
      "Epoch 74/200\n",
      "32/32 [==============================] - 0s 3ms/step - loss: 0.4338 - accuracy: 0.8281 - val_loss: 0.4180 - val_accuracy: 0.7750\n",
      "Epoch 75/200\n",
      "32/32 [==============================] - 0s 3ms/step - loss: 0.4338 - accuracy: 0.8156 - val_loss: 0.4163 - val_accuracy: 0.7750\n",
      "Epoch 76/200\n",
      "32/32 [==============================] - 0s 3ms/step - loss: 0.4328 - accuracy: 0.8188 - val_loss: 0.4213 - val_accuracy: 0.7750\n",
      "Epoch 77/200\n",
      "32/32 [==============================] - 0s 3ms/step - loss: 0.4327 - accuracy: 0.8125 - val_loss: 0.4155 - val_accuracy: 0.7750\n",
      "Epoch 78/200\n",
      "32/32 [==============================] - 0s 3ms/step - loss: 0.4332 - accuracy: 0.8156 - val_loss: 0.4148 - val_accuracy: 0.7750\n",
      "Epoch 79/200\n",
      "32/32 [==============================] - 0s 3ms/step - loss: 0.4336 - accuracy: 0.8250 - val_loss: 0.4201 - val_accuracy: 0.7750\n",
      "Epoch 80/200\n",
      "32/32 [==============================] - 0s 3ms/step - loss: 0.4327 - accuracy: 0.8125 - val_loss: 0.4192 - val_accuracy: 0.7750\n",
      "Epoch 81/200\n",
      "32/32 [==============================] - 0s 7ms/step - loss: 0.4335 - accuracy: 0.8188 - val_loss: 0.4186 - val_accuracy: 0.7750\n",
      "Epoch 82/200\n",
      "32/32 [==============================] - 0s 3ms/step - loss: 0.4333 - accuracy: 0.8094 - val_loss: 0.4193 - val_accuracy: 0.7750\n",
      "Epoch 83/200\n",
      "32/32 [==============================] - 0s 4ms/step - loss: 0.4335 - accuracy: 0.8219 - val_loss: 0.4158 - val_accuracy: 0.7750\n",
      "Epoch 84/200\n",
      "32/32 [==============================] - 0s 3ms/step - loss: 0.4341 - accuracy: 0.8156 - val_loss: 0.4160 - val_accuracy: 0.7750\n",
      "Epoch 85/200\n",
      "32/32 [==============================] - 0s 3ms/step - loss: 0.4323 - accuracy: 0.8156 - val_loss: 0.4211 - val_accuracy: 0.7750\n",
      "Epoch 86/200\n",
      "32/32 [==============================] - 0s 2ms/step - loss: 0.4329 - accuracy: 0.8125 - val_loss: 0.4154 - val_accuracy: 0.7750\n",
      "Epoch 87/200\n",
      "32/32 [==============================] - 0s 2ms/step - loss: 0.4336 - accuracy: 0.8219 - val_loss: 0.4180 - val_accuracy: 0.7750\n",
      "Epoch 88/200\n",
      "32/32 [==============================] - 0s 2ms/step - loss: 0.4338 - accuracy: 0.8188 - val_loss: 0.4192 - val_accuracy: 0.7750\n",
      "Epoch 89/200\n",
      "32/32 [==============================] - 0s 2ms/step - loss: 0.4330 - accuracy: 0.8125 - val_loss: 0.4172 - val_accuracy: 0.7750\n",
      "Epoch 90/200\n",
      "32/32 [==============================] - 0s 2ms/step - loss: 0.4321 - accuracy: 0.8219 - val_loss: 0.4152 - val_accuracy: 0.7750\n",
      "Epoch 91/200\n",
      "32/32 [==============================] - 0s 2ms/step - loss: 0.4331 - accuracy: 0.8188 - val_loss: 0.4150 - val_accuracy: 0.7875\n",
      "Epoch 92/200\n",
      "32/32 [==============================] - 0s 2ms/step - loss: 0.4330 - accuracy: 0.8188 - val_loss: 0.4171 - val_accuracy: 0.7875\n",
      "Epoch 93/200\n",
      "32/32 [==============================] - 0s 2ms/step - loss: 0.4320 - accuracy: 0.8219 - val_loss: 0.4147 - val_accuracy: 0.8000\n",
      "Epoch 94/200\n",
      "32/32 [==============================] - 0s 3ms/step - loss: 0.4329 - accuracy: 0.8250 - val_loss: 0.4164 - val_accuracy: 0.7875\n",
      "Epoch 95/200\n",
      "32/32 [==============================] - 0s 3ms/step - loss: 0.4331 - accuracy: 0.8156 - val_loss: 0.4196 - val_accuracy: 0.7750\n",
      "Epoch 96/200\n",
      "32/32 [==============================] - ETA: 0s - loss: 0.3703 - accuracy: 0.90 - 0s 3ms/step - loss: 0.4335 - accuracy: 0.8219 - val_loss: 0.4208 - val_accuracy: 0.7750\n",
      "Epoch 97/200\n",
      "32/32 [==============================] - 0s 4ms/step - loss: 0.4324 - accuracy: 0.8281 - val_loss: 0.4189 - val_accuracy: 0.7750\n",
      "Epoch 98/200\n",
      "32/32 [==============================] - 0s 3ms/step - loss: 0.4332 - accuracy: 0.8250 - val_loss: 0.4181 - val_accuracy: 0.7750\n",
      "Epoch 99/200\n",
      "32/32 [==============================] - 0s 6ms/step - loss: 0.4337 - accuracy: 0.8156 - val_loss: 0.4175 - val_accuracy: 0.7750\n",
      "Epoch 100/200\n",
      "32/32 [==============================] - 0s 2ms/step - loss: 0.4326 - accuracy: 0.8188 - val_loss: 0.4165 - val_accuracy: 0.7750\n",
      "Epoch 101/200\n",
      "32/32 [==============================] - 0s 3ms/step - loss: 0.4325 - accuracy: 0.8188 - val_loss: 0.4153 - val_accuracy: 0.7750\n",
      "Epoch 102/200\n",
      "32/32 [==============================] - 0s 3ms/step - loss: 0.4320 - accuracy: 0.8156 - val_loss: 0.4201 - val_accuracy: 0.7875\n",
      "Epoch 103/200\n",
      "32/32 [==============================] - 0s 13ms/step - loss: 0.4327 - accuracy: 0.8188 - val_loss: 0.4179 - val_accuracy: 0.7875\n",
      "Epoch 104/200\n",
      "32/32 [==============================] - 0s 3ms/step - loss: 0.4328 - accuracy: 0.8188 - val_loss: 0.4190 - val_accuracy: 0.7875\n",
      "Epoch 105/200\n",
      "32/32 [==============================] - 0s 3ms/step - loss: 0.4331 - accuracy: 0.8125 - val_loss: 0.4182 - val_accuracy: 0.7750\n",
      "Epoch 106/200\n",
      "32/32 [==============================] - 0s 3ms/step - loss: 0.4319 - accuracy: 0.8125 - val_loss: 0.4224 - val_accuracy: 0.7625\n",
      "Epoch 107/200\n",
      "32/32 [==============================] - 0s 3ms/step - loss: 0.4322 - accuracy: 0.8188 - val_loss: 0.4185 - val_accuracy: 0.7750\n",
      "Epoch 108/200\n",
      "32/32 [==============================] - 0s 3ms/step - loss: 0.4343 - accuracy: 0.8219 - val_loss: 0.4214 - val_accuracy: 0.7750\n",
      "Epoch 109/200\n",
      "32/32 [==============================] - 0s 2ms/step - loss: 0.4325 - accuracy: 0.8250 - val_loss: 0.4199 - val_accuracy: 0.7750\n",
      "Epoch 110/200\n",
      "32/32 [==============================] - 0s 3ms/step - loss: 0.4326 - accuracy: 0.8219 - val_loss: 0.4229 - val_accuracy: 0.7750\n",
      "Epoch 111/200\n",
      "32/32 [==============================] - 0s 3ms/step - loss: 0.4322 - accuracy: 0.8125 - val_loss: 0.4206 - val_accuracy: 0.7750\n",
      "Epoch 112/200\n",
      "32/32 [==============================] - 0s 3ms/step - loss: 0.4324 - accuracy: 0.8188 - val_loss: 0.4230 - val_accuracy: 0.7625\n",
      "Epoch 113/200\n",
      "32/32 [==============================] - 0s 2ms/step - loss: 0.4331 - accuracy: 0.8219 - val_loss: 0.4169 - val_accuracy: 0.7750\n",
      "Epoch 114/200\n",
      "32/32 [==============================] - 0s 3ms/step - loss: 0.4330 - accuracy: 0.8219 - val_loss: 0.4169 - val_accuracy: 0.7750\n",
      "Epoch 115/200\n"
     ]
    },
    {
     "name": "stdout",
     "output_type": "stream",
     "text": [
      "32/32 [==============================] - 0s 3ms/step - loss: 0.4325 - accuracy: 0.8125 - val_loss: 0.4191 - val_accuracy: 0.7750\n",
      "Epoch 116/200\n",
      "32/32 [==============================] - 0s 3ms/step - loss: 0.4328 - accuracy: 0.8125 - val_loss: 0.4166 - val_accuracy: 0.7750\n",
      "Epoch 117/200\n",
      "32/32 [==============================] - 0s 4ms/step - loss: 0.4324 - accuracy: 0.8094 - val_loss: 0.4227 - val_accuracy: 0.7750\n",
      "Epoch 118/200\n",
      "32/32 [==============================] - 0s 2ms/step - loss: 0.4324 - accuracy: 0.8156 - val_loss: 0.4233 - val_accuracy: 0.7750\n",
      "Epoch 119/200\n",
      "32/32 [==============================] - 0s 3ms/step - loss: 0.4329 - accuracy: 0.8156 - val_loss: 0.4228 - val_accuracy: 0.7625\n",
      "Epoch 120/200\n",
      "32/32 [==============================] - 0s 2ms/step - loss: 0.4334 - accuracy: 0.8156 - val_loss: 0.4201 - val_accuracy: 0.7625\n",
      "Epoch 121/200\n",
      "32/32 [==============================] - 0s 3ms/step - loss: 0.4319 - accuracy: 0.8188 - val_loss: 0.4217 - val_accuracy: 0.7625\n",
      "Epoch 122/200\n",
      "32/32 [==============================] - 0s 3ms/step - loss: 0.4327 - accuracy: 0.8156 - val_loss: 0.4192 - val_accuracy: 0.7750\n",
      "Epoch 123/200\n",
      "32/32 [==============================] - 0s 3ms/step - loss: 0.4328 - accuracy: 0.8188 - val_loss: 0.4218 - val_accuracy: 0.7625\n",
      "Epoch 124/200\n",
      "32/32 [==============================] - 0s 2ms/step - loss: 0.4325 - accuracy: 0.8188 - val_loss: 0.4180 - val_accuracy: 0.7875\n",
      "Epoch 125/200\n",
      "32/32 [==============================] - 0s 2ms/step - loss: 0.4329 - accuracy: 0.8219 - val_loss: 0.4202 - val_accuracy: 0.7750\n",
      "Epoch 126/200\n",
      "32/32 [==============================] - 0s 3ms/step - loss: 0.4335 - accuracy: 0.8250 - val_loss: 0.4204 - val_accuracy: 0.7875\n",
      "Epoch 127/200\n",
      "32/32 [==============================] - 0s 3ms/step - loss: 0.4333 - accuracy: 0.8125 - val_loss: 0.4198 - val_accuracy: 0.7750\n",
      "Epoch 128/200\n",
      "32/32 [==============================] - 0s 3ms/step - loss: 0.4328 - accuracy: 0.8219 - val_loss: 0.4182 - val_accuracy: 0.7875\n",
      "Epoch 129/200\n",
      "32/32 [==============================] - 0s 3ms/step - loss: 0.4329 - accuracy: 0.8125 - val_loss: 0.4182 - val_accuracy: 0.7750\n",
      "Epoch 130/200\n",
      "32/32 [==============================] - 0s 2ms/step - loss: 0.4330 - accuracy: 0.8094 - val_loss: 0.4158 - val_accuracy: 0.7875\n",
      "Epoch 131/200\n",
      "32/32 [==============================] - 0s 3ms/step - loss: 0.4326 - accuracy: 0.8281 - val_loss: 0.4167 - val_accuracy: 0.7875\n",
      "Epoch 132/200\n",
      "32/32 [==============================] - 0s 3ms/step - loss: 0.4325 - accuracy: 0.8188 - val_loss: 0.4201 - val_accuracy: 0.7750\n",
      "Epoch 133/200\n",
      "32/32 [==============================] - 0s 2ms/step - loss: 0.4331 - accuracy: 0.8313 - val_loss: 0.4172 - val_accuracy: 0.7750\n",
      "Epoch 134/200\n",
      "32/32 [==============================] - 0s 2ms/step - loss: 0.4325 - accuracy: 0.8156 - val_loss: 0.4157 - val_accuracy: 0.7750\n",
      "Epoch 135/200\n",
      "32/32 [==============================] - 0s 2ms/step - loss: 0.4337 - accuracy: 0.8125 - val_loss: 0.4177 - val_accuracy: 0.7750\n",
      "Epoch 136/200\n",
      "32/32 [==============================] - 0s 2ms/step - loss: 0.4330 - accuracy: 0.8156 - val_loss: 0.4171 - val_accuracy: 0.7875\n",
      "Epoch 137/200\n",
      "32/32 [==============================] - 0s 3ms/step - loss: 0.4325 - accuracy: 0.8156 - val_loss: 0.4143 - val_accuracy: 0.7875\n",
      "Epoch 138/200\n",
      "32/32 [==============================] - 0s 2ms/step - loss: 0.4332 - accuracy: 0.8188 - val_loss: 0.4158 - val_accuracy: 0.7875\n",
      "Epoch 139/200\n",
      "32/32 [==============================] - 0s 2ms/step - loss: 0.4318 - accuracy: 0.8250 - val_loss: 0.4175 - val_accuracy: 0.7875\n",
      "Epoch 140/200\n",
      "32/32 [==============================] - 0s 2ms/step - loss: 0.4330 - accuracy: 0.8188 - val_loss: 0.4177 - val_accuracy: 0.7875\n",
      "Epoch 141/200\n",
      "32/32 [==============================] - 0s 2ms/step - loss: 0.4326 - accuracy: 0.8188 - val_loss: 0.4169 - val_accuracy: 0.7875\n",
      "Epoch 142/200\n",
      "32/32 [==============================] - 0s 2ms/step - loss: 0.4326 - accuracy: 0.8219 - val_loss: 0.4192 - val_accuracy: 0.7750\n",
      "Epoch 143/200\n",
      "32/32 [==============================] - 0s 2ms/step - loss: 0.4323 - accuracy: 0.8156 - val_loss: 0.4229 - val_accuracy: 0.7750\n",
      "Epoch 144/200\n",
      "32/32 [==============================] - 0s 3ms/step - loss: 0.4325 - accuracy: 0.8219 - val_loss: 0.4200 - val_accuracy: 0.7750\n",
      "Epoch 145/200\n",
      "32/32 [==============================] - 0s 2ms/step - loss: 0.4339 - accuracy: 0.8094 - val_loss: 0.4201 - val_accuracy: 0.7750\n",
      "Epoch 146/200\n",
      "32/32 [==============================] - 0s 2ms/step - loss: 0.4330 - accuracy: 0.8156 - val_loss: 0.4154 - val_accuracy: 0.7875\n",
      "Epoch 147/200\n",
      "32/32 [==============================] - 0s 3ms/step - loss: 0.4328 - accuracy: 0.8188 - val_loss: 0.4199 - val_accuracy: 0.7750\n",
      "Epoch 148/200\n",
      "32/32 [==============================] - 0s 2ms/step - loss: 0.4321 - accuracy: 0.8219 - val_loss: 0.4190 - val_accuracy: 0.7750\n",
      "Epoch 149/200\n",
      "32/32 [==============================] - 0s 2ms/step - loss: 0.4326 - accuracy: 0.8156 - val_loss: 0.4185 - val_accuracy: 0.7750\n",
      "Epoch 150/200\n",
      "32/32 [==============================] - 0s 3ms/step - loss: 0.4325 - accuracy: 0.8250 - val_loss: 0.4190 - val_accuracy: 0.7875\n",
      "Epoch 151/200\n",
      "32/32 [==============================] - 0s 5ms/step - loss: 0.4341 - accuracy: 0.8188 - val_loss: 0.4190 - val_accuracy: 0.7875\n",
      "Epoch 152/200\n",
      "32/32 [==============================] - 0s 3ms/step - loss: 0.4325 - accuracy: 0.8188 - val_loss: 0.4193 - val_accuracy: 0.7875\n",
      "Epoch 153/200\n",
      "32/32 [==============================] - 0s 3ms/step - loss: 0.4331 - accuracy: 0.8125 - val_loss: 0.4168 - val_accuracy: 0.7875\n",
      "Epoch 154/200\n",
      "32/32 [==============================] - 0s 3ms/step - loss: 0.4327 - accuracy: 0.8125 - val_loss: 0.4211 - val_accuracy: 0.7750\n",
      "Epoch 155/200\n",
      "32/32 [==============================] - 0s 3ms/step - loss: 0.4331 - accuracy: 0.8250 - val_loss: 0.4221 - val_accuracy: 0.7750\n",
      "Epoch 156/200\n",
      "32/32 [==============================] - 0s 3ms/step - loss: 0.4333 - accuracy: 0.8156 - val_loss: 0.4193 - val_accuracy: 0.7750\n",
      "Epoch 157/200\n",
      "32/32 [==============================] - 0s 3ms/step - loss: 0.4330 - accuracy: 0.8156 - val_loss: 0.4176 - val_accuracy: 0.7875\n",
      "Epoch 158/200\n",
      "32/32 [==============================] - 0s 2ms/step - loss: 0.4333 - accuracy: 0.8219 - val_loss: 0.4206 - val_accuracy: 0.7750\n",
      "Epoch 159/200\n",
      "32/32 [==============================] - 0s 4ms/step - loss: 0.4328 - accuracy: 0.8219 - val_loss: 0.4229 - val_accuracy: 0.7750\n",
      "Epoch 160/200\n",
      "32/32 [==============================] - 0s 3ms/step - loss: 0.4329 - accuracy: 0.8156 - val_loss: 0.4187 - val_accuracy: 0.7750\n",
      "Epoch 161/200\n",
      "32/32 [==============================] - 0s 3ms/step - loss: 0.4328 - accuracy: 0.8156 - val_loss: 0.4173 - val_accuracy: 0.7875\n",
      "Epoch 162/200\n",
      "32/32 [==============================] - 0s 3ms/step - loss: 0.4326 - accuracy: 0.8188 - val_loss: 0.4173 - val_accuracy: 0.7875\n",
      "Epoch 163/200\n",
      "32/32 [==============================] - 0s 3ms/step - loss: 0.4333 - accuracy: 0.8188 - val_loss: 0.4263 - val_accuracy: 0.7625\n",
      "Epoch 164/200\n",
      "32/32 [==============================] - 0s 3ms/step - loss: 0.4335 - accuracy: 0.8281 - val_loss: 0.4232 - val_accuracy: 0.7625\n",
      "Epoch 165/200\n",
      "32/32 [==============================] - 0s 5ms/step - loss: 0.4324 - accuracy: 0.8250 - val_loss: 0.4183 - val_accuracy: 0.7875\n",
      "Epoch 166/200\n",
      "32/32 [==============================] - 0s 3ms/step - loss: 0.4325 - accuracy: 0.8188 - val_loss: 0.4176 - val_accuracy: 0.7875\n",
      "Epoch 167/200\n",
      "32/32 [==============================] - 0s 3ms/step - loss: 0.4326 - accuracy: 0.8188 - val_loss: 0.4187 - val_accuracy: 0.7750\n",
      "Epoch 168/200\n",
      "32/32 [==============================] - 0s 3ms/step - loss: 0.4330 - accuracy: 0.8281 - val_loss: 0.4196 - val_accuracy: 0.7750\n",
      "Epoch 169/200\n",
      "32/32 [==============================] - 0s 3ms/step - loss: 0.4321 - accuracy: 0.8250 - val_loss: 0.4212 - val_accuracy: 0.7750\n",
      "Epoch 170/200\n",
      "32/32 [==============================] - 0s 3ms/step - loss: 0.4324 - accuracy: 0.8156 - val_loss: 0.4185 - val_accuracy: 0.7750\n",
      "Epoch 171/200\n",
      "32/32 [==============================] - 0s 3ms/step - loss: 0.4329 - accuracy: 0.8156 - val_loss: 0.4207 - val_accuracy: 0.7750\n",
      "Epoch 172/200\n"
     ]
    },
    {
     "name": "stdout",
     "output_type": "stream",
     "text": [
      "32/32 [==============================] - 0s 3ms/step - loss: 0.4323 - accuracy: 0.8250 - val_loss: 0.4165 - val_accuracy: 0.7875\n",
      "Epoch 173/200\n",
      "32/32 [==============================] - 0s 3ms/step - loss: 0.4327 - accuracy: 0.8219 - val_loss: 0.4169 - val_accuracy: 0.7875\n",
      "Epoch 174/200\n",
      "32/32 [==============================] - 0s 2ms/step - loss: 0.4337 - accuracy: 0.8219 - val_loss: 0.4176 - val_accuracy: 0.7875\n",
      "Epoch 175/200\n",
      "32/32 [==============================] - 0s 3ms/step - loss: 0.4329 - accuracy: 0.8156 - val_loss: 0.4187 - val_accuracy: 0.7875\n",
      "Epoch 176/200\n",
      "32/32 [==============================] - 0s 3ms/step - loss: 0.4325 - accuracy: 0.8188 - val_loss: 0.4160 - val_accuracy: 0.7875\n",
      "Epoch 177/200\n",
      "32/32 [==============================] - 0s 3ms/step - loss: 0.4327 - accuracy: 0.8188 - val_loss: 0.4152 - val_accuracy: 0.7875\n",
      "Epoch 178/200\n",
      "32/32 [==============================] - 0s 2ms/step - loss: 0.4330 - accuracy: 0.8156 - val_loss: 0.4159 - val_accuracy: 0.7875\n",
      "Epoch 179/200\n",
      "32/32 [==============================] - 0s 3ms/step - loss: 0.4335 - accuracy: 0.8219 - val_loss: 0.4170 - val_accuracy: 0.7875\n",
      "Epoch 180/200\n",
      "32/32 [==============================] - 0s 3ms/step - loss: 0.4323 - accuracy: 0.8188 - val_loss: 0.4168 - val_accuracy: 0.7875\n",
      "Epoch 181/200\n",
      "32/32 [==============================] - 0s 3ms/step - loss: 0.4327 - accuracy: 0.8156 - val_loss: 0.4178 - val_accuracy: 0.7875\n",
      "Epoch 182/200\n",
      "32/32 [==============================] - 0s 8ms/step - loss: 0.4326 - accuracy: 0.8094 - val_loss: 0.4189 - val_accuracy: 0.7750\n",
      "Epoch 183/200\n",
      "32/32 [==============================] - 0s 3ms/step - loss: 0.4324 - accuracy: 0.8188 - val_loss: 0.4219 - val_accuracy: 0.7625\n",
      "Epoch 184/200\n",
      "32/32 [==============================] - 0s 2ms/step - loss: 0.4330 - accuracy: 0.8188 - val_loss: 0.4173 - val_accuracy: 0.7875\n",
      "Epoch 185/200\n",
      "32/32 [==============================] - 0s 4ms/step - loss: 0.4330 - accuracy: 0.8156 - val_loss: 0.4214 - val_accuracy: 0.7625\n",
      "Epoch 186/200\n",
      "32/32 [==============================] - 0s 3ms/step - loss: 0.4324 - accuracy: 0.8344 - val_loss: 0.4233 - val_accuracy: 0.7750\n",
      "Epoch 187/200\n",
      "32/32 [==============================] - 0s 5ms/step - loss: 0.4325 - accuracy: 0.8188 - val_loss: 0.4190 - val_accuracy: 0.7750\n",
      "Epoch 188/200\n",
      "32/32 [==============================] - 0s 4ms/step - loss: 0.4327 - accuracy: 0.8250 - val_loss: 0.4146 - val_accuracy: 0.7875\n",
      "Epoch 189/200\n",
      "32/32 [==============================] - 0s 4ms/step - loss: 0.4330 - accuracy: 0.8219 - val_loss: 0.4163 - val_accuracy: 0.7875\n",
      "Epoch 190/200\n",
      "32/32 [==============================] - 0s 4ms/step - loss: 0.4330 - accuracy: 0.8188 - val_loss: 0.4161 - val_accuracy: 0.7875\n",
      "Epoch 191/200\n",
      "32/32 [==============================] - 0s 4ms/step - loss: 0.4326 - accuracy: 0.8219 - val_loss: 0.4162 - val_accuracy: 0.7875\n",
      "Epoch 192/200\n",
      "32/32 [==============================] - 0s 4ms/step - loss: 0.4333 - accuracy: 0.8156 - val_loss: 0.4169 - val_accuracy: 0.7875\n",
      "Epoch 193/200\n",
      "32/32 [==============================] - 0s 2ms/step - loss: 0.4339 - accuracy: 0.8219 - val_loss: 0.4182 - val_accuracy: 0.7875\n",
      "Epoch 194/200\n",
      "32/32 [==============================] - 0s 3ms/step - loss: 0.4328 - accuracy: 0.8250 - val_loss: 0.4179 - val_accuracy: 0.7875\n",
      "Epoch 195/200\n",
      "32/32 [==============================] - 0s 3ms/step - loss: 0.4327 - accuracy: 0.8188 - val_loss: 0.4195 - val_accuracy: 0.7750\n",
      "Epoch 196/200\n",
      "32/32 [==============================] - 0s 4ms/step - loss: 0.4323 - accuracy: 0.8219 - val_loss: 0.4198 - val_accuracy: 0.7750\n",
      "Epoch 197/200\n",
      "32/32 [==============================] - 0s 5ms/step - loss: 0.4332 - accuracy: 0.8219 - val_loss: 0.4169 - val_accuracy: 0.7875\n",
      "Epoch 198/200\n",
      "32/32 [==============================] - 0s 5ms/step - loss: 0.4334 - accuracy: 0.8188 - val_loss: 0.4200 - val_accuracy: 0.7750\n",
      "Epoch 199/200\n",
      "32/32 [==============================] - 0s 3ms/step - loss: 0.4329 - accuracy: 0.8125 - val_loss: 0.4167 - val_accuracy: 0.7875\n",
      "Epoch 200/200\n",
      "32/32 [==============================] - 0s 4ms/step - loss: 0.4328 - accuracy: 0.8188 - val_loss: 0.4194 - val_accuracy: 0.7750\n"
     ]
    }
   ],
   "source": [
    "from keras import optimizers\n",
    "\n",
    "sgd = optimizers.SGD(lr=0.03) # On choisit la descente de gradient stochastique, avec un taux d'apprentssage de 0.03\n",
    "\n",
    "# On définit ici, pour le modèle introduit plus tôt, l'optimiseur choisi, la fonction de perte (ici\n",
    "# l'entropie croisée car classification binaire) et les métriques que l'on veut observer pendant\n",
    "# l'entraînement. L'accuracy est le pourcentage de bonnes classifications.\n",
    "model.compile(optimizer=sgd,\n",
    "              loss='binary_crossentropy',\n",
    "              metrics=['accuracy'])\n",
    "\n",
    "# Entraînement du modèle avec des mini-batchs de taille 10, sur 200 epochs. \n",
    "# Le paramètre validation_split signifie qu'on tire aléatoirement une partie des données\n",
    "# (ici 20%) pour servir d'ensemble de validation\n",
    "history = model.fit(x, y, validation_split=0.2, epochs=200, batch_size=10)\n"
   ]
  },
  {
   "cell_type": "markdown",
   "metadata": {
    "id": "vO3wIAsOM0PO"
   },
   "source": [
    "Affichage de l'évolution de la perte puis évaluation sur un nouveau jeu de données, qui agit donc comme un ensemble de test (différent des ensembles d'apprentissage et de validation)"
   ]
  },
  {
   "cell_type": "code",
   "execution_count": 6,
   "metadata": {
    "colab": {
     "base_uri": "https://localhost:8080/",
     "height": 297
    },
    "executionInfo": {
     "elapsed": 794,
     "status": "ok",
     "timestamp": 1602056235438,
     "user": {
      "displayName": "Axel Carlier",
      "photoUrl": "",
      "userId": "04558954327840318068"
     },
     "user_tz": -120
    },
    "id": "zqPAndq0i2t7",
    "outputId": "b11b39ed-2194-4b4e-fa88-1c6cf59c05e7"
   },
   "outputs": [
    {
     "data": {
      "image/png": "[encoded data removed]",
      "text/plain": [
       "<Figure size 432x288 with 1 Axes>"
      ]
     },
     "metadata": {
      "needs_background": "light"
     },
     "output_type": "display_data"
    }
   ],
   "source": [
    "val_loss=(history.history['val_loss'])\n",
    "train_loss=(history.history['loss'])\n",
    "plot_loss(val_loss, train_loss)"
   ]
  },
  {
   "cell_type": "code",
   "execution_count": 7,
   "metadata": {
    "colab": {
     "base_uri": "https://localhost:8080/",
     "height": 51
    },
    "executionInfo": {
     "elapsed": 28758,
     "status": "ok",
     "timestamp": 1601996060192,
     "user": {
      "displayName": "Axel Carlier",
      "photoUrl": "",
      "userId": "04558954327840318068"
     },
     "user_tz": -120
    },
    "id": "9ytMjFw_I2Lo",
    "outputId": "62435072-e3cb-4095-dc87-007abc2ec40d"
   },
   "outputs": [
    {
     "name": "stdout",
     "output_type": "stream",
     "text": [
      "7/7 [==============================] - 0s 6ms/step - loss: 0.5539 - accuracy: 0.7900\n"
     ]
    },
    {
     "data": {
      "text/plain": [
       "[0.553855299949646, 0.7900000214576721]"
      ]
     },
     "execution_count": 7,
     "metadata": {},
     "output_type": "execute_result"
    }
   ],
   "source": [
    "x_test, y_test = generateData(100, noise=10)\n",
    "model.evaluate(x_test, y_test)"
   ]
  },
  {
   "cell_type": "markdown",
   "metadata": {
    "id": "dlAKnroaM-jq"
   },
   "source": [
    "# Travail à effectuer\n",
    "\n",
    "Votre objectif pendant ce TP est de prendre en main Keras en illustrant quelques concepts vus en cours, et rappelés sur les vidéos ci-dessous.\n",
    "\n",
    "**1 - Évanescence des gradients avec la fonction sigmoïde et correction grâce à la fonction reLU.\n",
    "(la cellule ci-après affiche une vidéo qui illustre cet exemple).**\n"
   ]
  },
  {
   "cell_type": "code",
   "execution_count": 8,
   "metadata": {},
   "outputs": [
    {
     "data": {
      "text/html": [
       "\n",
       "        <iframe\n",
       "            width=\"640\"\n",
       "            height=\"360\"\n",
       "            src=\"https://video.polymny.studio/?v=82ed9784-4f22-4922-ac9a-08c298e983f4/\"\n",
       "            frameborder=\"0\"\n",
       "            allowfullscreen\n",
       "        ></iframe>\n",
       "        "
      ],
      "text/plain": [
       "<IPython.lib.display.IFrame at 0x7f68a00d1e20>"
      ]
     },
     "execution_count": 8,
     "metadata": {},
     "output_type": "execute_result"
    }
   ],
   "source": [
    "from IPython.display import IFrame\n",
    "IFrame(\"https://video.polymny.studio/?v=82ed9784-4f22-4922-ac9a-08c298e983f4/\", width=640, height=360)"
   ]
  },
  {
   "cell_type": "markdown",
   "metadata": {},
   "source": [
    "Commencez par créer un réseau à 3 couches cachées de 4 neurones chacune, portant une fonction d'activation sigmoide, et essayez d'entraîner ce réseau. Vous devriez observer que la fonction de perte n'évolue pas au cours du temps, ceci à cause de l'evanescence des gradients. \n",
    "\n",
    "Dans un second temps, remplacez la fonction d'activation des couches cachées par une reLU et observez l'effet immédiat de ce changement sur l'entraînement."
   ]
  },
  {
   "cell_type": "markdown",
   "metadata": {},
   "source": [
    "**2 - Ajout d'un terme de régularisation L1 ou L2 et impact sur le sur-apprentissage.**"
   ]
  },
  {
   "cell_type": "code",
   "execution_count": 9,
   "metadata": {},
   "outputs": [
    {
     "data": {
      "text/html": [
       "\n",
       "        <iframe\n",
       "            width=\"640\"\n",
       "            height=\"360\"\n",
       "            src=\"https://video.polymny.studio/?v=e9580db4-8c91-486e-bb67-2edbdcfa887b/\"\n",
       "            frameborder=\"0\"\n",
       "            allowfullscreen\n",
       "        ></iframe>\n",
       "        "
      ],
      "text/plain": [
       "<IPython.lib.display.IFrame at 0x7f68a0213580>"
      ]
     },
     "execution_count": 9,
     "metadata": {},
     "output_type": "execute_result"
    }
   ],
   "source": [
    "IFrame(\"https://video.polymny.studio/?v=e9580db4-8c91-486e-bb67-2edbdcfa887b/\", width=640, height=360)"
   ]
  },
  {
   "cell_type": "markdown",
   "metadata": {
    "id": "R6jvSb1rj9og"
   },
   "source": [
    "Commencez d'abord par générer des données bruitées (paramètre *noise* à 50)\n",
    "\n",
    "Comme expliqué dans la vidéo, créez un réseau à 6 couches cachées et n'hésitez pas à utiliser un grand nombre de neurones dans ces couches cachées (par exemple, 50) afin d'obtenir un fort sur-apprentissage. \n",
    "Le paramètre *kernel_regularizer* des couches de Keras vous permettra d'ajouter une régularisation L1 et L2.\n",
    "\n",
    "Afin de bien voir l'impact de chacun des types de régularisation, utilisez la fonction *print_model_weights* ci-dessous pour afficher un histogramme des valeurs des paramètres de votre modèle à l'issue de l'apprentissage. Vous devriez observer, comme indiqué en cours, qu'une régularisation L2 fait tendre tous les paramètres vers 0, alors qu'une régularisation L1 produit un modèle creux avec beaucoup de valeurs nulles.\n",
    "\n",
    "```python\n",
    "def print_model_weights(model):\n",
    "    \n",
    "    model_parameters = []\n",
    "    for layer in model.layers:\n",
    "        weights = layer.get_weights() # liste de tableaux numpy\n",
    "        for w in weights:\n",
    "            model_parameters = np.concatenate((model_parameters, w), axis=None)\n",
    "\n",
    "    # Affichage d'un histogramme des paramètres du modèle, avec une échelle logarithmique symétrique\n",
    "    plt.hist(model_parameters, bins=[-10, -1, -0.1, -0.01, -0.001, 0.001, 0.01, 0.1, 1, 10])\n",
    "    plt.xscale('symlog', linthresh=0.01)\n",
    "    plt.show()\n",
    "```\n",
    "\n",
    "**3 - Impact du taux d'apprentissage** (facultatif, si vous en avez le temps !)\n",
    "\n",
    "Reprenez l'exemple de code qui vous est fourni initialement, en changeant simplement le nombre de neurones de la couche cachée (à modifier de 2 à 4). Jusqu'à présent, vous n'avez pas eu à remettre en cause le choix du taux d'apprentissage, positionné à 0.03.\n",
    "Dans ce dernier exercice, il vous est demandé de tester 5 valeurs de taux d'apprentissage : 3, 1, 0.1, 0.01, et 0.001 \n",
    "Exécutez l'apprentissage (à l'aide d'une descente de gradient stochastique) sur 100 epochs pour ces 5 valeurs et tracez une figure regroupant les courbes d'apprentissage correspondant aux 5 taux d'apprentissage.\n",
    "\n",
    "Comment interpréter les résultats ?\n",
    "\n",
    "\n",
    "Une fois ce code écrit, exécutez le à nouveau en remplaçant la descente de gradient stochastique (SGD) par l'algorithme Adam. Qu'observez-vous ?"
   ]
  },
  {
   "cell_type": "code",
   "execution_count": null,
   "metadata": {},
   "outputs": [],
   "source": []
  }
 ],
 "metadata": {
  "accelerator": "GPU",
  "colab": {
   "collapsed_sections": [],
   "name": "IAM2020 - TP1 - Corrigé .ipynb",
   "provenance": [
    {
     "file_id": "1cienunElXY1OVX4CdUbh9KJ5Ou6Az9P2",
     "timestamp": 1601995868653
    }
   ],
   "toc_visible": true
  },
  "kernelspec": {
   "display_name": "Python 3",
   "language": "python",
   "name": "python3"
  },
  "language_info": {
   "codemirror_mode": {
    "name": "ipython",
    "version": 3
   },
   "file_extension": ".py",
   "mimetype": "text/x-python",
   "name": "python",
   "nbconvert_exporter": "python",
   "pygments_lexer": "ipython3",
   "version": "3.8.3"
  }
 },
 "nbformat": 4,
 "nbformat_minor": 1
}
