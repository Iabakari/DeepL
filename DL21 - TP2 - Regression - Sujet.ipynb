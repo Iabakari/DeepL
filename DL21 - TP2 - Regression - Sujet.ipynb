{
 "cells": [
  {
   "cell_type": "markdown",
   "metadata": {
    "id": "FRcVJdNiFJ6Y"
   },
   "source": [
    "# TP 2 - Régression\n",
    "\n",
    "## Prédiction des prix de l'immobilier à Boston dans les années 1970"
   ]
  },
  {
   "cell_type": "markdown",
   "metadata": {
    "id": "UJX3eu1lFSLZ"
   },
   "source": [
    "La prédiction du prix de maisons bostoniennes des années 1970, dont les données sont issues de la base *Boston House Prices*, créée par D. Harrison et D.L. Rubinfeld à l'Université de Californie à Irvine (http://archive.ics.uci.edu/ml/machine-learning-databases/housing/), est un problème classique d'apprentissage supervisé. \n",
    "\n",
    "<img src=\"https://1.bp.blogspot.com/-sCZIatDf9LQ/XGm-lEHXnAI/AAAAAAAAPxQ/kv8S8fdgudAwWTFuJhuAoiykLmWLCoOtgCLcBGAs/s1600/197010xx-GovernmentCenter-Boston_resize.JPG\" width=600 />\n",
    "\n",
    "Plus précisément, le label à prédire dans cette base de données est le prix médian par quartier de l'immobilier (en milliers de dollars). Il s'agit donc d'un problème de régression puisque l'on veut inférer des valeurs continues. Pour ce faire, on dispose de 13 entrées offrant les informations suivantes : \n",
    "\n",
    "- CRIM - per capita crime rate by town\n",
    "- ZN - proportion of residential land zoned for lots over 25,000 sq.ft.\n",
    "- INDUS - proportion of non-retail business acres per town.\n",
    "- CHAS - Charles River dummy variable (1 if tract bounds river; 0 otherwise)\n",
    "- NOX - nitric oxides concentration (parts per 10 million)\n",
    "- RM - average number of rooms per dwelling\n",
    "- AGE - proportion of owner-occupied units built prior to 1940\n",
    "- DIS - weighted distances to five Boston employment centres\n",
    "- TAX - full-value property-tax rate per \\$10,000\n",
    "- RAD - index of accessibility to radial highways\n",
    "- PTRATIO - pupil-teacher ratio by town\n",
    "- B $ = 1000(B_k - 0.63)^2$ where $B_k$ is the proportion of blacks by town\n",
    "- LSTAT - percentage lower status of the population\n",
    "\n",
    "L'objectif de ce TP est d'arriver à prédire au plus près les valeurs médianes de prix de maison par quartier.\n"
   ]
  },
  {
   "cell_type": "markdown",
   "metadata": {},
   "source": [
    "![Texte alternatif…](https://miro.medium.com/max/763/1*i9vZk7NkS1dZz6JEcbV5nA.png)"
   ]
  },
  {
   "cell_type": "code",
   "execution_count": 11,
   "metadata": {
    "id": "hy3k4aRnGl0r",
    "scrolled": true
   },
   "outputs": [],
   "source": [
    "from __future__ import print_function\n",
    "import numpy as np\n",
    "from matplotlib import pyplot as plt\n",
    "from keras import optimizers\n",
    "from keras.models import Sequential\n",
    "from keras.layers import Dense, Activation\n",
    "from keras import regularizers\n",
    "\n",
    "%matplotlib inline"
   ]
  },
  {
   "cell_type": "markdown",
   "metadata": {
    "id": "D-j9idOyYyl-"
   },
   "source": [
    "Nous réutilisons la fonction d'affichage des fonctions de coût introduite dans le TP1"
   ]
  },
  {
   "cell_type": "code",
   "execution_count": 95,
   "metadata": {
    "id": "EEWkxUsqPua5"
   },
   "outputs": [],
   "source": [
    "def plot_loss(val_loss, train_loss, ymax=100):\n",
    "  plt.plot(val_loss, color='green', label='Erreur de validation')\n",
    "  plt.plot(train_loss, color='blue', linestyle='--', label='Erreur d\\'entraînement')\n",
    "  plt.xlabel('Epochs')\n",
    "  plt.ylim(0, ymax)\n",
    "  plt.title('Évolution de la perte sur les ensembles d\\'apprentissage et de validation au cours de l\\'apprentissage')\n",
    "  plt.legend()"
   ]
  },
  {
   "cell_type": "markdown",
   "metadata": {
    "id": "y4HMTOhJRh9o"
   },
   "source": [
    "# Préparation des données"
   ]
  },
  {
   "cell_type": "markdown",
   "metadata": {
    "id": "D85ZzbYDY5Xs"
   },
   "source": [
    "On commence par charger les données d'entraînement et de test."
   ]
  },
  {
   "cell_type": "code",
   "execution_count": 96,
   "metadata": {
    "id": "gh8vgUo3859i"
   },
   "outputs": [
    {
     "data": {
      "image/png": "[encoded data removed]",
      "text/plain": [
       "<Figure size 432x288 with 1 Axes>"
      ]
     },
     "metadata": {
      "needs_background": "light"
     },
     "output_type": "display_data"
    }
   ],
   "source": [
    "from keras.datasets import boston_housing\n",
    "\n",
    "(x_train, y_train), (x_test, y_test) = boston_housing.load_data()\n",
    "plt.boxplot(x_train)\n",
    "plt.show()\n",
    "x_train = (x_train - np.mean(x_train, axis=0))/(np.var(x_train,axis=0)**(0.5))\n",
    "\n"
   ]
  },
  {
   "cell_type": "markdown",
   "metadata": {
    "id": "jJZfgaVwMGk9"
   },
   "source": [
    "# Approche simple à corriger\n",
    "\n",
    "\n"
   ]
  },
  {
   "cell_type": "markdown",
   "metadata": {
    "id": "p1AKFeUnML3b"
   },
   "source": [
    "## Création du modèle\n",
    "\n"
   ]
  },
  {
   "cell_type": "code",
   "execution_count": 130,
   "metadata": {
    "id": "nQwBDvUq9VVn"
   },
   "outputs": [],
   "source": [
    "model = Sequential()\n",
    "model.add(Dense(4, activation='sigmoid', input_dim=13))\n",
    "model.add(Dense(4, activation='relu', input_dim=13))\n"
   ]
  },
  {
   "cell_type": "markdown",
   "metadata": {
    "id": "ng3YnvV3RqVZ"
   },
   "source": [
    "## Entrainement du réseau"
   ]
  },
  {
   "cell_type": "code",
   "execution_count": 131,
   "metadata": {
    "id": "DtON8JXE9gj-"
   },
   "outputs": [
    {
     "name": "stdout",
     "output_type": "stream",
     "text": [
      "Epoch 1/50\n",
      "13/13 [==============================] - 0s 5ms/step - loss: 553.5818 - mae: 21.6830\n",
      "Epoch 2/50\n",
      "13/13 [==============================] - 0s 1ms/step - loss: 532.9431 - mae: 21.2655\n",
      "Epoch 3/50\n",
      "13/13 [==============================] - 0s 2ms/step - loss: 510.1682 - mae: 20.7823\n",
      "Epoch 4/50\n",
      "13/13 [==============================] - 0s 3ms/step - loss: 487.4992 - mae: 20.2807\n",
      "Epoch 5/50\n",
      "13/13 [==============================] - 0s 2ms/step - loss: 463.8967 - mae: 19.7415\n",
      "Epoch 6/50\n",
      "13/13 [==============================] - 0s 2ms/step - loss: 439.7315 - mae: 19.1661\n",
      "Epoch 7/50\n",
      "13/13 [==============================] - 0s 2ms/step - loss: 414.5657 - mae: 18.5524\n",
      "Epoch 8/50\n",
      "13/13 [==============================] - 0s 2ms/step - loss: 390.7378 - mae: 17.9282\n",
      "Epoch 9/50\n",
      "13/13 [==============================] - 0s 2ms/step - loss: 367.3704 - mae: 17.2866\n",
      "Epoch 10/50\n",
      "13/13 [==============================] - 0s 2ms/step - loss: 344.7330 - mae: 16.6221\n",
      "Epoch 11/50\n",
      "13/13 [==============================] - 0s 3ms/step - loss: 323.0796 - mae: 15.9749\n",
      "Epoch 12/50\n",
      "13/13 [==============================] - 0s 2ms/step - loss: 302.9522 - mae: 15.3436\n",
      "Epoch 13/50\n",
      "13/13 [==============================] - 0s 2ms/step - loss: 284.3366 - mae: 14.7275\n",
      "Epoch 14/50\n",
      "13/13 [==============================] - 0s 2ms/step - loss: 266.9731 - mae: 14.1307\n",
      "Epoch 15/50\n",
      "13/13 [==============================] - 0s 2ms/step - loss: 250.8108 - mae: 13.5411\n",
      "Epoch 16/50\n",
      "13/13 [==============================] - 0s 2ms/step - loss: 235.7981 - mae: 12.9943\n",
      "Epoch 17/50\n",
      "13/13 [==============================] - 0s 2ms/step - loss: 221.8064 - mae: 12.4645\n",
      "Epoch 18/50\n",
      "13/13 [==============================] - 0s 2ms/step - loss: 209.1694 - mae: 11.9369\n",
      "Epoch 19/50\n",
      "13/13 [==============================] - 0s 3ms/step - loss: 197.0108 - mae: 11.4289\n",
      "Epoch 20/50\n",
      "13/13 [==============================] - 0s 2ms/step - loss: 185.6404 - mae: 10.9474\n",
      "Epoch 21/50\n",
      "13/13 [==============================] - 0s 2ms/step - loss: 175.2315 - mae: 10.4889\n",
      "Epoch 22/50\n",
      "13/13 [==============================] - 0s 2ms/step - loss: 165.3576 - mae: 10.0398\n",
      "Epoch 23/50\n",
      "13/13 [==============================] - 0s 2ms/step - loss: 155.9026 - mae: 9.6058\n",
      "Epoch 24/50\n",
      "13/13 [==============================] - 0s 2ms/step - loss: 147.3464 - mae: 9.2002\n",
      "Epoch 25/50\n",
      "13/13 [==============================] - 0s 2ms/step - loss: 139.6870 - mae: 8.8285\n",
      "Epoch 26/50\n",
      "13/13 [==============================] - 0s 2ms/step - loss: 132.4098 - mae: 8.4731\n",
      "Epoch 27/50\n",
      "13/13 [==============================] - 0s 2ms/step - loss: 126.0695 - mae: 8.1355\n",
      "Epoch 28/50\n",
      "13/13 [==============================] - 0s 2ms/step - loss: 119.7910 - mae: 7.8239\n",
      "Epoch 29/50\n",
      "13/13 [==============================] - 0s 2ms/step - loss: 114.3634 - mae: 7.5333\n",
      "Epoch 30/50\n",
      "13/13 [==============================] - 0s 2ms/step - loss: 109.1946 - mae: 7.2526\n",
      "Epoch 31/50\n",
      "13/13 [==============================] - 0s 2ms/step - loss: 104.3708 - mae: 6.9840\n",
      "Epoch 32/50\n",
      "13/13 [==============================] - 0s 2ms/step - loss: 100.0284 - mae: 6.7333\n",
      "Epoch 33/50\n",
      "13/13 [==============================] - 0s 2ms/step - loss: 95.8270 - mae: 6.4888\n",
      "Epoch 34/50\n",
      "13/13 [==============================] - 0s 2ms/step - loss: 91.9871 - mae: 6.2397\n",
      "Epoch 35/50\n",
      "13/13 [==============================] - 0s 2ms/step - loss: 88.4119 - mae: 6.0271\n",
      "Epoch 36/50\n",
      "13/13 [==============================] - 0s 2ms/step - loss: 85.1978 - mae: 5.8395\n",
      "Epoch 37/50\n",
      "13/13 [==============================] - 0s 1ms/step - loss: 82.3099 - mae: 5.6642\n",
      "Epoch 38/50\n",
      "13/13 [==============================] - 0s 2ms/step - loss: 79.6140 - mae: 5.5028\n",
      "Epoch 39/50\n",
      "13/13 [==============================] - 0s 2ms/step - loss: 77.1239 - mae: 5.3640\n",
      "Epoch 40/50\n",
      "13/13 [==============================] - 0s 2ms/step - loss: 74.8316 - mae: 5.2397\n",
      "Epoch 41/50\n",
      "13/13 [==============================] - 0s 2ms/step - loss: 72.6023 - mae: 5.1275\n",
      "Epoch 42/50\n",
      "13/13 [==============================] - 0s 2ms/step - loss: 70.7114 - mae: 5.0324\n",
      "Epoch 43/50\n",
      "13/13 [==============================] - 0s 3ms/step - loss: 68.7918 - mae: 4.9491\n",
      "Epoch 44/50\n",
      "13/13 [==============================] - 0s 2ms/step - loss: 67.0995 - mae: 4.8646\n",
      "Epoch 45/50\n",
      "13/13 [==============================] - 0s 2ms/step - loss: 65.4123 - mae: 4.7879\n",
      "Epoch 46/50\n",
      "13/13 [==============================] - 0s 2ms/step - loss: 63.9297 - mae: 4.7203\n",
      "Epoch 47/50\n",
      "13/13 [==============================] - 0s 5ms/step - loss: 62.5619 - mae: 4.6697\n",
      "Epoch 48/50\n",
      "13/13 [==============================] - 0s 2ms/step - loss: 61.2117 - mae: 4.6191\n",
      "Epoch 49/50\n",
      "13/13 [==============================] - 0s 2ms/step - loss: 60.0080 - mae: 4.5669\n",
      "Epoch 50/50\n",
      "13/13 [==============================] - 0s 2ms/step - loss: 58.8985 - mae: 4.5286\n"
     ]
    }
   ],
   "source": [
    "optim = optimizers.SGD(lr = 0.01)\n",
    "adam = optimizers.Adam(lr = 0.01)\n",
    "model.compile(optimizer=adam, loss='mse', metrics=['mae'])\n",
    "\n",
    "history = model.fit(x_train, y_train, epochs=50, batch_size=32)"
   ]
  },
  {
   "cell_type": "markdown",
   "metadata": {
    "id": "WTyU-K5jR1KA"
   },
   "source": [
    "## Evaluation du modèle"
   ]
  },
  {
   "cell_type": "code",
   "execution_count": 134,
   "metadata": {
    "id": "LZdF2ihZPYnS"
   },
   "outputs": [
    {
     "ename": "KeyError",
     "evalue": "'val_loss'",
     "output_type": "error",
     "traceback": [
      "\u001b[0;31m---------------------------------------------------------------------------\u001b[0m",
      "\u001b[0;31mKeyError\u001b[0m                                  Traceback (most recent call last)",
      "\u001b[0;32m<ipython-input-134-8fb2194f15c3>\u001b[0m in \u001b[0;36m<module>\u001b[0;34m\u001b[0m\n\u001b[1;32m      1\u001b[0m \u001b[0mtrain_loss\u001b[0m\u001b[0;34m=\u001b[0m\u001b[0;34m(\u001b[0m\u001b[0mhistory\u001b[0m\u001b[0;34m.\u001b[0m\u001b[0mhistory\u001b[0m\u001b[0;34m[\u001b[0m\u001b[0;34m'loss'\u001b[0m\u001b[0;34m]\u001b[0m\u001b[0;34m)\u001b[0m\u001b[0;34m\u001b[0m\u001b[0;34m\u001b[0m\u001b[0m\n\u001b[1;32m      2\u001b[0m \u001b[0mplot_loss\u001b[0m\u001b[0;34m(\u001b[0m\u001b[0;34m[\u001b[0m\u001b[0;34m]\u001b[0m\u001b[0;34m,\u001b[0m \u001b[0mtrain_loss\u001b[0m\u001b[0;34m,\u001b[0m \u001b[0mymax\u001b[0m\u001b[0;34m=\u001b[0m\u001b[0;36m800\u001b[0m\u001b[0;34m)\u001b[0m\u001b[0;34m\u001b[0m\u001b[0;34m\u001b[0m\u001b[0m\n\u001b[0;32m----> 3\u001b[0;31m \u001b[0mval_loss\u001b[0m\u001b[0;34m=\u001b[0m\u001b[0;34m(\u001b[0m\u001b[0mhistory\u001b[0m\u001b[0;34m.\u001b[0m\u001b[0mhistory\u001b[0m\u001b[0;34m[\u001b[0m\u001b[0;34m'val_loss'\u001b[0m\u001b[0;34m]\u001b[0m\u001b[0;34m)\u001b[0m\u001b[0;34m\u001b[0m\u001b[0;34m\u001b[0m\u001b[0m\n\u001b[0m\u001b[1;32m      4\u001b[0m \u001b[0mplot_loss\u001b[0m\u001b[0;34m(\u001b[0m\u001b[0mval_loss\u001b[0m\u001b[0;34m,\u001b[0m \u001b[0mtrain_loss\u001b[0m\u001b[0;34m,\u001b[0m \u001b[0mymax\u001b[0m\u001b[0;34m=\u001b[0m\u001b[0;36m500\u001b[0m\u001b[0;34m)\u001b[0m\u001b[0;34m\u001b[0m\u001b[0;34m\u001b[0m\u001b[0m\n",
      "\u001b[0;31mKeyError\u001b[0m: 'val_loss'"
     ]
    },
    {
     "data": {
      "image/png": "[encoded data removed]",
      "text/plain": [
       "<Figure size 432x288 with 1 Axes>"
      ]
     },
     "metadata": {
      "needs_background": "light"
     },
     "output_type": "display_data"
    }
   ],
   "source": [
    "train_loss=(history.history['loss'])\n",
    "plot_loss([], train_loss, ymax=800)\n",
    "#val_loss=(history.history['val_loss'])\n",
    "#plot_loss(val_loss, train_loss, ymax=500)"
   ]
  },
  {
   "cell_type": "code",
   "execution_count": 132,
   "metadata": {
    "id": "Tzs6ZY3B-eut"
   },
   "outputs": [
    {
     "name": "stdout",
     "output_type": "stream",
     "text": [
      "4/4 [==============================] - 0s 6ms/step - loss: 108.2630 - mae: 7.6352\n"
     ]
    },
    {
     "data": {
      "text/plain": [
       "[108.26295471191406, 7.63519811630249]"
      ]
     },
     "execution_count": 132,
     "metadata": {},
     "output_type": "execute_result"
    }
   ],
   "source": [
    "model.evaluate(x_test, y_test)"
   ]
  },
  {
   "cell_type": "markdown",
   "metadata": {
    "id": "lgbYzKDGYoaa"
   },
   "source": [
    "On obtient une mae d'environ 22, ce qui signie que l'on est éloigné en moyenne de 22000$ de la vérité terrain.\n",
    "\n",
    "# Travail à faire\n",
    "\n",
    "L'approche présentée ci-dessus apporte des résultats décevants, en raison de  quelques maladresses, voire erreurs. Dans un premier temps, vous devez **trouver et corriger ces problèmes**.\n",
    "\n",
    "Dans un second temps, cherchez à améliorer les performances du modèle. Vous pouvez atteindre sans trop de difficulté un score de MAE inférieur à 3 sur l'ensemble de test. Pour vous aider, inspirez-vous de la vidéo du cours ci-dessous. A chaque nouveau test, vous devez évaluer si votre réseau est en sous-apprentissage, ou en sur-apprentissage, et en déduire des modifications possibles pour en améliorer les performances.\n",
    "\n",
    "MAE de test à battre si vous aimez les défis : **2.20** !\n"
   ]
  },
  {
   "cell_type": "code",
   "execution_count": 18,
   "metadata": {},
   "outputs": [
    {
     "data": {
      "text/html": [
       "\n",
       "        <iframe\n",
       "            width=\"640\"\n",
       "            height=\"360\"\n",
       "            src=\"https://video.polymny.studio/?v=c9e5c27b-2228-488e-b64d-8fd57ed30056/\"\n",
       "            frameborder=\"0\"\n",
       "            allowfullscreen\n",
       "        ></iframe>\n",
       "        "
      ],
      "text/plain": [
       "<IPython.lib.display.IFrame at 0x7f7800371280>"
      ]
     },
     "execution_count": 18,
     "metadata": {},
     "output_type": "execute_result"
    }
   ],
   "source": [
    "from IPython.display import IFrame\n",
    "IFrame(\"https://video.polymny.studio/?v=c9e5c27b-2228-488e-b64d-8fd57ed30056/\", width=640, height=360)"
   ]
  }
 ],
 "metadata": {
  "accelerator": "GPU",
  "colab": {
   "collapsed_sections": [],
   "name": "IAM2020-TP2-Boston-Sujet.ipynb",
   "provenance": [],
   "toc_visible": true
  },
  "kernelspec": {
   "display_name": "Python 3",
   "language": "python",
   "name": "python3"
  },
  "language_info": {
   "codemirror_mode": {
    "name": "ipython",
    "version": 3
   },
   "file_extension": ".py",
   "mimetype": "text/x-python",
   "name": "python",
   "nbconvert_exporter": "python",
   "pygments_lexer": "ipython3",
   "version": "3.8.3"
  }
 },
 "nbformat": 4,
 "nbformat_minor": 1
}
